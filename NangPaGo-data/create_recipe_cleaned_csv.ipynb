{
 "cells": [
  {
   "cell_type": "markdown",
   "metadata": {},
   "source": [
    "# 레시피 데이터 전처리 (데이터 클렌징)\n",
    "\n",
    "### 목적\n",
    "\n",
    "`recipe.json` 원본 파일을 클렌징하여 `recipe_cleaned.csv` 파일을 생성합니다.\n",
    "\n",
    "### 개발 환경 설정\n",
    "\n",
    "1. **데이터셋 폴더 생성**\n",
    "\n",
    "    ```bash\n",
    "    cd NangPaGo/NangPaGo-data\n",
    "    mkdir datasets\n",
    "    ```\n",
    "\n",
    "    `datasets` 폴더를 생성한 후, `recipe.json`과 `normalized_pattern.pkl` 파일을 해당 폴더에 넣습니다. (자료 위치: Confluence `데이터베이스/recipe 데이터셋 클렌징`)\n",
    "\n",
    "    ```\n",
    "    datasets/\n",
    "    ├── normalized_pattern.pkl  # 정규화 패턴식 모음\n",
    "    └── recipe.json             # 원본 데이터셋\n",
    "    ```\n",
    "\n",
    "2. **가상 환경 설정**\n",
    "\n",
    "    ```bash\n",
    "    python3.10 -m venv py310\n",
    "    source py310/bin/activate\n",
    "    pip install -r requirements.txt\n",
    "    ```\n",
    "\n",
    "    Python 3.10 환경에서 가상 환경을 생성하고, 필요한 라이브러리를 설치합니다."
   ]
  },
  {
   "cell_type": "markdown",
   "metadata": {},
   "source": [
    "- 필요한 파일은 `Confluence`에 `recipe.json`과 `normalized_pattern.pkl` 첨부되어 있습니다.\n",
    "    ```\n",
    "    datasets/\n",
    "    ├── recipe_cleand.csv (저장할 데이터셋, 클렌징한 데이터)\n",
    "    ├── normalized_pattern.pkl (정규화 식 모음)\n",
    "    └── recipe.json (원본 데이터셋)\n",
    "    ```"
   ]
  },
  {
   "cell_type": "markdown",
   "metadata": {},
   "source": [
    "## 1. 데이터 전처리"
   ]
  },
  {
   "cell_type": "markdown",
   "metadata": {},
   "source": [
    "### 1.1) 데이터 로드"
   ]
  },
  {
   "cell_type": "code",
   "execution_count": 49,
   "metadata": {},
   "outputs": [],
   "source": [
    "import json\n",
    "import pandas as pd\n",
    "import numpy as np\n",
    "import re\n",
    "import pickle"
   ]
  },
  {
   "cell_type": "code",
   "execution_count": 50,
   "metadata": {},
   "outputs": [],
   "source": [
    "# 레시피 데이터 JSON 파일 불러오기\n",
    "with open(\"datasets/recipe.json\", \"r\", encoding=\"utf-8\") as fname:\n",
    "    recipe_data = json.load(fname)\n",
    "\n",
    "# 데이터 프레임 생성\n",
    "df = pd.DataFrame(recipe_data)"
   ]
  },
  {
   "cell_type": "markdown",
   "metadata": {},
   "source": [
    "### 1.2) 결측치 처리\n",
    "\n",
    "- 필요없는 칼럼 제거 (Manual7 ~ Manual 20: 모든 행이 Null 값임)"
   ]
  },
  {
   "cell_type": "code",
   "execution_count": 51,
   "metadata": {},
   "outputs": [
    {
     "name": "stdout",
     "output_type": "stream",
     "text": [
      "RCP_PARTS_DTLS         3\n",
      "RCP_WAY2               0\n",
      "MANUAL_IMG20        1136\n",
      "MANUAL20            1136\n",
      "RCP_SEQ                0\n",
      "INFO_NA                0\n",
      "INFO_WGT             871\n",
      "INFO_PRO               0\n",
      "MANUAL_IMG13        1136\n",
      "MANUAL_IMG14        1136\n",
      "MANUAL_IMG15        1136\n",
      "MANUAL_IMG16        1136\n",
      "MANUAL_IMG10        1136\n",
      "MANUAL_IMG11        1136\n",
      "MANUAL_IMG12        1136\n",
      "MANUAL_IMG17        1136\n",
      "MANUAL_IMG18        1136\n",
      "MANUAL_IMG19        1136\n",
      "INFO_FAT               0\n",
      "HASH_TAG             779\n",
      "MANUAL_IMG02           2\n",
      "MANUAL_IMG03           1\n",
      "RCP_PAT2               0\n",
      "MANUAL_IMG04          51\n",
      "MANUAL_IMG05          54\n",
      "MANUAL_IMG01           3\n",
      "MANUAL01               3\n",
      "ATT_FILE_NO_MK         1\n",
      "MANUAL_IMG06         108\n",
      "MANUAL_IMG07        1136\n",
      "MANUAL_IMG08        1136\n",
      "MANUAL_IMG09        1136\n",
      "MANUAL08            1136\n",
      "MANUAL09            1136\n",
      "MANUAL06             108\n",
      "MANUAL07            1136\n",
      "MANUAL04              51\n",
      "MANUAL05              54\n",
      "MANUAL02               2\n",
      "MANUAL03               1\n",
      "ATT_FILE_NO_MAIN       2\n",
      "MANUAL11            1136\n",
      "MANUAL12            1136\n",
      "MANUAL10            1136\n",
      "INFO_CAR               0\n",
      "MANUAL19            1136\n",
      "RCP_NA_TIP            54\n",
      "INFO_ENG               0\n",
      "MANUAL17            1136\n",
      "MANUAL18            1136\n",
      "RCP_NM                 0\n",
      "MANUAL15            1136\n",
      "MANUAL16            1136\n",
      "MANUAL13            1136\n",
      "MANUAL14            1136\n",
      "dtype: int64\n",
      "Index(['MANUAL_IMG20', 'MANUAL20', 'MANUAL_IMG13', 'MANUAL_IMG14',\n",
      "       'MANUAL_IMG15', 'MANUAL_IMG16', 'MANUAL_IMG10', 'MANUAL_IMG11',\n",
      "       'MANUAL_IMG12', 'MANUAL_IMG17', 'MANUAL_IMG18', 'MANUAL_IMG19',\n",
      "       'MANUAL_IMG07', 'MANUAL_IMG08', 'MANUAL_IMG09', 'MANUAL08', 'MANUAL09',\n",
      "       'MANUAL07', 'MANUAL11', 'MANUAL12', 'MANUAL10', 'MANUAL19', 'MANUAL17',\n",
      "       'MANUAL18', 'MANUAL15', 'MANUAL16', 'MANUAL13', 'MANUAL14'],\n",
      "      dtype='object')\n",
      "(1136, 27)\n"
     ]
    }
   ],
   "source": [
    "# 빈 문자열을 None으로 대체\n",
    "df.replace(\"\", None, inplace=True)\n",
    "\n",
    "# 결측값의 합계 확인\n",
    "print(df.isnull().sum())\n",
    "\n",
    "# 전체 행이 결측값인 컬럼 찾기\n",
    "columns_to_drop = df.columns[df.isnull().sum() == len(df)]\n",
    "df = df.drop(columns=columns_to_drop)\n",
    "\n",
    "# 삭제된 컬럼 출력\n",
    "print(columns_to_drop)\n",
    "\n",
    "# 최종 DataFrame의 형태 확인\n",
    "print(df.shape)\n",
    "\n",
    "# 남은 결측값을 빈 문자열로 대체 (원상복귀)\n",
    "df.fillna(\"\", inplace=True)"
   ]
  },
  {
   "cell_type": "markdown",
   "metadata": {},
   "source": [
    "- `RCP_PARTS_DTLS` 칼럼이 Null 인 경우 날리기"
   ]
  },
  {
   "cell_type": "code",
   "execution_count": 52,
   "metadata": {},
   "outputs": [
    {
     "data": {
      "text/html": [
       "<div>\n",
       "<style scoped>\n",
       "    .dataframe tbody tr th:only-of-type {\n",
       "        vertical-align: middle;\n",
       "    }\n",
       "\n",
       "    .dataframe tbody tr th {\n",
       "        vertical-align: top;\n",
       "    }\n",
       "\n",
       "    .dataframe thead th {\n",
       "        text-align: right;\n",
       "    }\n",
       "</style>\n",
       "<table border=\"1\" class=\"dataframe\">\n",
       "  <thead>\n",
       "    <tr style=\"text-align: right;\">\n",
       "      <th></th>\n",
       "      <th>RCP_PARTS_DTLS</th>\n",
       "      <th>RCP_WAY2</th>\n",
       "      <th>RCP_SEQ</th>\n",
       "      <th>INFO_NA</th>\n",
       "      <th>INFO_WGT</th>\n",
       "      <th>INFO_PRO</th>\n",
       "      <th>INFO_FAT</th>\n",
       "      <th>HASH_TAG</th>\n",
       "      <th>MANUAL_IMG02</th>\n",
       "      <th>MANUAL_IMG03</th>\n",
       "      <th>...</th>\n",
       "      <th>MANUAL06</th>\n",
       "      <th>MANUAL04</th>\n",
       "      <th>MANUAL05</th>\n",
       "      <th>MANUAL02</th>\n",
       "      <th>MANUAL03</th>\n",
       "      <th>ATT_FILE_NO_MAIN</th>\n",
       "      <th>INFO_CAR</th>\n",
       "      <th>RCP_NA_TIP</th>\n",
       "      <th>INFO_ENG</th>\n",
       "      <th>RCP_NM</th>\n",
       "    </tr>\n",
       "  </thead>\n",
       "  <tbody>\n",
       "    <tr>\n",
       "      <th>493</th>\n",
       "      <td></td>\n",
       "      <td>끓이기</td>\n",
       "      <td>691</td>\n",
       "      <td>577.2</td>\n",
       "      <td></td>\n",
       "      <td>9.5</td>\n",
       "      <td>5.9</td>\n",
       "      <td></td>\n",
       "      <td>http://www.foodsafetykorea.go.kr/uploadimg/coo...</td>\n",
       "      <td>http://www.foodsafetykorea.go.kr/uploadimg/coo...</td>\n",
       "      <td>...</td>\n",
       "      <td>6. 국물이 끓어 오르면 호박잎과 부추, 파, 다진 마늘을 넣고 마지막으로 달걀물을...</td>\n",
       "      <td>4. 국물낸 다슬기는 건져 달걀물과 함께 섞는다.</td>\n",
       "      <td>5. 부추는 1cm 가량의 크기로 썰고 대파는 어슷썰기 한다.</td>\n",
       "      <td>2. 호박잎은 줄기를 꺾으며 잡아당겨 실 같은 껍질을 벗기고 씻는다.</td>\n",
       "      <td>3. 멸치다시마국물 1컵에 된장을 풀고 씻은 다슬기살을 함께 넣어 중불에서 5분정도...</td>\n",
       "      <td>http://www.foodsafetykorea.go.kr/uploadimg/201...</td>\n",
       "      <td>6.2</td>\n",
       "      <td>호박잎은 비벼서 연하게 만든 후 사용한다. - 다슬기를 달걀물에 묻혀 넣으면 달걀이...</td>\n",
       "      <td>86.7</td>\n",
       "      <td>호박잎다슬기된장국</td>\n",
       "    </tr>\n",
       "    <tr>\n",
       "      <th>494</th>\n",
       "      <td></td>\n",
       "      <td>찌기</td>\n",
       "      <td>692</td>\n",
       "      <td>478.8</td>\n",
       "      <td></td>\n",
       "      <td>10.7</td>\n",
       "      <td>7.2</td>\n",
       "      <td></td>\n",
       "      <td>http://www.foodsafetykorea.go.kr/uploadimg/coo...</td>\n",
       "      <td>http://www.foodsafetykorea.go.kr/uploadimg/coo...</td>\n",
       "      <td>...</td>\n",
       "      <td>6. 소스는 다진 양파와 마늘을 먼저 볶아 향을 낸 후 토마토케첩, 간장, 매실액을...</td>\n",
       "      <td>4. 다진 돼지고기에 파, 다진 마늘, 참기름, 설탕, 소금, 후춧가루를 넣고 양념...</td>\n",
       "      <td>5. 찐 양배추에 밀가루를 뿌리고 3의 재료를 놓고 돌돌 감아 찜통에 찐다.</td>\n",
       "      <td>2. 자른 양배추는 김이 오른 찜통에 5분 정도 찐다.</td>\n",
       "      <td>3. 당근, 양파, 표고버섯은 곱게 다지고 두부는 으깨 면보에 짠다</td>\n",
       "      <td>http://www.foodsafetykorea.go.kr/uploadimg/201...</td>\n",
       "      <td>14.1</td>\n",
       "      <td>양배추의 단단한 잎줄기는 부드러운 잎과 열을 받는 시차가 다르고 음식을 할 때도 모...</td>\n",
       "      <td>165</td>\n",
       "      <td>양배추두부찜과 양파케첩소스</td>\n",
       "    </tr>\n",
       "    <tr>\n",
       "      <th>1029</th>\n",
       "      <td></td>\n",
       "      <td>끓이기</td>\n",
       "      <td>831</td>\n",
       "      <td>210</td>\n",
       "      <td></td>\n",
       "      <td>7.5</td>\n",
       "      <td>3.6</td>\n",
       "      <td></td>\n",
       "      <td>http://www.foodsafetykorea.go.kr/uploadimg/coo...</td>\n",
       "      <td>http://www.foodsafetykorea.go.kr/uploadimg/coo...</td>\n",
       "      <td>...</td>\n",
       "      <td>6. 나머지 재료를 넣어 연하게 졸여낸다</td>\n",
       "      <td>4. 마늘쫑은 3cm 길이로 자르고, 파프리카는 1.5 x 4cm로 썬다.</td>\n",
       "      <td>5. 냄비에 저나트륨 조림소스 재료를 넣고 곤약을 넣어 약한 불에서 졸인다.</td>\n",
       "      <td>2. 곤약은 데쳐서 준비한다.</td>\n",
       "      <td>3. 콩은 불리고 마늘은 편으로 썬다.</td>\n",
       "      <td>http://www.foodsafetykorea.go.kr/uploadimg/201...</td>\n",
       "      <td>10.7</td>\n",
       "      <td>저나트륨 조림소스는 보통 조림소스보다 간장 양을 1/3정도 줄여서 사용하므로 색을 ...</td>\n",
       "      <td>96.4</td>\n",
       "      <td>곤약 콩조림</td>\n",
       "    </tr>\n",
       "  </tbody>\n",
       "</table>\n",
       "<p>3 rows × 27 columns</p>\n",
       "</div>"
      ],
      "text/plain": [
       "     RCP_PARTS_DTLS RCP_WAY2 RCP_SEQ INFO_NA INFO_WGT INFO_PRO INFO_FAT  \\\n",
       "493                      끓이기     691   577.2               9.5      5.9   \n",
       "494                       찌기     692   478.8              10.7      7.2   \n",
       "1029                     끓이기     831     210               7.5      3.6   \n",
       "\n",
       "     HASH_TAG                                       MANUAL_IMG02  \\\n",
       "493            http://www.foodsafetykorea.go.kr/uploadimg/coo...   \n",
       "494            http://www.foodsafetykorea.go.kr/uploadimg/coo...   \n",
       "1029           http://www.foodsafetykorea.go.kr/uploadimg/coo...   \n",
       "\n",
       "                                           MANUAL_IMG03  ...  \\\n",
       "493   http://www.foodsafetykorea.go.kr/uploadimg/coo...  ...   \n",
       "494   http://www.foodsafetykorea.go.kr/uploadimg/coo...  ...   \n",
       "1029  http://www.foodsafetykorea.go.kr/uploadimg/coo...  ...   \n",
       "\n",
       "                                               MANUAL06  \\\n",
       "493   6. 국물이 끓어 오르면 호박잎과 부추, 파, 다진 마늘을 넣고 마지막으로 달걀물을...   \n",
       "494   6. 소스는 다진 양파와 마늘을 먼저 볶아 향을 낸 후 토마토케첩, 간장, 매실액을...   \n",
       "1029                             6. 나머지 재료를 넣어 연하게 졸여낸다   \n",
       "\n",
       "                                               MANUAL04  \\\n",
       "493                         4. 국물낸 다슬기는 건져 달걀물과 함께 섞는다.   \n",
       "494   4. 다진 돼지고기에 파, 다진 마늘, 참기름, 설탕, 소금, 후춧가루를 넣고 양념...   \n",
       "1029          4. 마늘쫑은 3cm 길이로 자르고, 파프리카는 1.5 x 4cm로 썬다.   \n",
       "\n",
       "                                        MANUAL05  \\\n",
       "493           5. 부추는 1cm 가량의 크기로 썰고 대파는 어슷썰기 한다.   \n",
       "494   5. 찐 양배추에 밀가루를 뿌리고 3의 재료를 놓고 돌돌 감아 찜통에 찐다.   \n",
       "1029  5. 냄비에 저나트륨 조림소스 재료를 넣고 곤약을 넣어 약한 불에서 졸인다.   \n",
       "\n",
       "                                    MANUAL02  \\\n",
       "493   2. 호박잎은 줄기를 꺾으며 잡아당겨 실 같은 껍질을 벗기고 씻는다.   \n",
       "494           2. 자른 양배추는 김이 오른 찜통에 5분 정도 찐다.   \n",
       "1029                        2. 곤약은 데쳐서 준비한다.   \n",
       "\n",
       "                                               MANUAL03  \\\n",
       "493   3. 멸치다시마국물 1컵에 된장을 풀고 씻은 다슬기살을 함께 넣어 중불에서 5분정도...   \n",
       "494               3. 당근, 양파, 표고버섯은 곱게 다지고 두부는 으깨 면보에 짠다   \n",
       "1029                              3. 콩은 불리고 마늘은 편으로 썬다.   \n",
       "\n",
       "                                       ATT_FILE_NO_MAIN INFO_CAR  \\\n",
       "493   http://www.foodsafetykorea.go.kr/uploadimg/201...      6.2   \n",
       "494   http://www.foodsafetykorea.go.kr/uploadimg/201...     14.1   \n",
       "1029  http://www.foodsafetykorea.go.kr/uploadimg/201...     10.7   \n",
       "\n",
       "                                             RCP_NA_TIP INFO_ENG  \\\n",
       "493   호박잎은 비벼서 연하게 만든 후 사용한다. - 다슬기를 달걀물에 묻혀 넣으면 달걀이...     86.7   \n",
       "494   양배추의 단단한 잎줄기는 부드러운 잎과 열을 받는 시차가 다르고 음식을 할 때도 모...      165   \n",
       "1029  저나트륨 조림소스는 보통 조림소스보다 간장 양을 1/3정도 줄여서 사용하므로 색을 ...     96.4   \n",
       "\n",
       "              RCP_NM  \n",
       "493        호박잎다슬기된장국  \n",
       "494   양배추두부찜과 양파케첩소스  \n",
       "1029          곤약 콩조림  \n",
       "\n",
       "[3 rows x 27 columns]"
      ]
     },
     "execution_count": 52,
     "metadata": {},
     "output_type": "execute_result"
    }
   ],
   "source": [
    "df[df.RCP_PARTS_DTLS == \"\"]"
   ]
  },
  {
   "cell_type": "code",
   "execution_count": 53,
   "metadata": {},
   "outputs": [
    {
     "data": {
      "text/plain": [
       "(1133, 27)"
      ]
     },
     "execution_count": 53,
     "metadata": {},
     "output_type": "execute_result"
    }
   ],
   "source": [
    "df = df[df['RCP_PARTS_DTLS'] != \"\"]\n",
    "df.shape"
   ]
  },
  {
   "cell_type": "markdown",
   "metadata": {},
   "source": [
    "### 1.3) 데이터 타입 변환"
   ]
  },
  {
   "cell_type": "code",
   "execution_count": 54,
   "metadata": {},
   "outputs": [
    {
     "data": {
      "text/plain": [
       "RCP_PARTS_DTLS       object\n",
       "RCP_WAY2             object\n",
       "RCP_SEQ               int64\n",
       "INFO_NA             float64\n",
       "INFO_WGT             object\n",
       "INFO_PRO            float64\n",
       "INFO_FAT            float64\n",
       "HASH_TAG             object\n",
       "MANUAL_IMG02         object\n",
       "MANUAL_IMG03         object\n",
       "RCP_PAT2             object\n",
       "MANUAL_IMG04         object\n",
       "MANUAL_IMG05         object\n",
       "MANUAL_IMG01         object\n",
       "MANUAL01             object\n",
       "ATT_FILE_NO_MK       object\n",
       "MANUAL_IMG06         object\n",
       "MANUAL06             object\n",
       "MANUAL04             object\n",
       "MANUAL05             object\n",
       "MANUAL02             object\n",
       "MANUAL03             object\n",
       "ATT_FILE_NO_MAIN     object\n",
       "INFO_CAR            float64\n",
       "RCP_NA_TIP           object\n",
       "INFO_ENG            float64\n",
       "RCP_NM               object\n",
       "dtype: object"
      ]
     },
     "execution_count": 54,
     "metadata": {},
     "output_type": "execute_result"
    }
   ],
   "source": [
    "numeric_columns = [\"RCP_SEQ\", \"INFO_ENG\", \"INFO_CAR\", \"INFO_PRO\", \"INFO_FAT\", \"INFO_NA\"]\n",
    "df[numeric_columns] = df[numeric_columns].apply(pd.to_numeric, errors=\"coerce\")\n",
    "df.dtypes"
   ]
  },
  {
   "cell_type": "markdown",
   "metadata": {},
   "source": [
    "### 1.4) 행 순서 정렬 및 컬럼명 변경"
   ]
  },
  {
   "cell_type": "markdown",
   "metadata": {},
   "source": [
    "#### RCP_SEQ 기준으로 정렬"
   ]
  },
  {
   "cell_type": "code",
   "execution_count": 55,
   "metadata": {},
   "outputs": [],
   "source": [
    "df = df.sort_values(by=\"RCP_SEQ\", ascending=True).reset_index(drop=True)"
   ]
  },
  {
   "cell_type": "markdown",
   "metadata": {},
   "source": [
    "#### 컬럼명 변경"
   ]
  },
  {
   "cell_type": "code",
   "execution_count": 56,
   "metadata": {},
   "outputs": [],
   "source": [
    "column_mapping = {\n",
    "    \"RCP_SEQ\": \"ID\",\n",
    "    'RCP_NM': \"NAME\",\n",
    "    'RCP_WAY2': \"COOKING_METHOD\",\n",
    "    'RCP_PAT2': \"CATEGORY\",\n",
    "    'INFO_WGT': \"WEIGHT\",\n",
    "    'INFO_ENG': \"CALORIE\",\n",
    "    'INFO_CAR': \"CARBOHYDRATE\",\n",
    "    'INFO_PRO': \"PROTEIN\",\n",
    "    'INFO_FAT': \"FAT\",\n",
    "    'INFO_NA': \"NATRIUM\",\n",
    "    'HASH_TAG': \"MAIN_INGREDIENT\",\n",
    "    'ATT_FILE_NO_MAIN': \"MAIN_IMAGE_LOW\",\n",
    "    'ATT_FILE_NO_MK': \"MAIN_IMAGE\",\n",
    "    'RCP_PARTS_DTLS': \"INGREDIENT_DETAIL\",\n",
    "    'MANUAL01': \"MANUAL_01\",\n",
    "    'MANUAL_IMG01': \"MANUAL_IMAGE_01\",\n",
    "    'MANUAL02': \"MANUAL_02\",\n",
    "    'MANUAL_IMG02': \"MANUAL_IMAGE_02\",\n",
    "    'MANUAL03': \"MANUAL_03\",\n",
    "    'MANUAL_IMG03': \"MANUAL_IMAGE_03\",\n",
    "    'MANUAL04': \"MANUAL_04\",\n",
    "    'MANUAL_IMG04': \"MANUAL_IMAGE_04\",\n",
    "    'MANUAL05': \"MANUAL_05\",\n",
    "    'MANUAL_IMG05': \"MANUAL_IMAGE_05\",\n",
    "    'MANUAL06': \"MANUAL_06\",\n",
    "    'MANUAL_IMG06': \"MANUAL_IMAGE_06\",\n",
    "    'RCP_NA_TIP': \"RECIPE_DESCRIPTION\"\n",
    "}\n",
    "\n",
    "# 열 이름 변경\n",
    "df = df.rename(columns=column_mapping).reset_index(drop=True).drop('ID', axis=1)"
   ]
  },
  {
   "cell_type": "markdown",
   "metadata": {},
   "source": [
    "## 2. `INGREDIENT_DETAIL` 칼럼 데이터 클렌징 (`recipe_cleaned` 생성)"
   ]
  },
  {
   "cell_type": "markdown",
   "metadata": {},
   "source": [
    "### 2.1) `INGREDIENT_DETAIL` 칼럼을 대상으로 불용어 제거\n",
    "- `[1인분]`, `1인분 기준<br>\\n[주재료]` `•필수 재료 :` 등 불필요한 용어 제거 및 순수 재료 데이터로 정제"
   ]
  },
  {
   "cell_type": "code",
   "execution_count": null,
   "metadata": {},
   "outputs": [],
   "source": [
    "# df['INGREDIENT_ORIGINAL'] = df['INGREDIENT_DETAIL']"
   ]
  },
  {
   "cell_type": "code",
   "execution_count": 58,
   "metadata": {},
   "outputs": [],
   "source": [
    "df['INGREDIENT_DETAIL'] = df['INGREDIENT_DETAIL'].apply(\n",
    "    lambda x: x.replace('청·홍', '청홍') \\\n",
    "                .replace('L.A', 'LA') \\\n",
    "                .replace('올ㄹ브오일', '올리브오일') \\\n",
    "                .replace('머스터드조스', '머스터드소스') \\\n",
    "                .replace('후추적당량[양송이 속양파다진것', '후추적당량, 양송이, 양파다진것') \\\n",
    "                .replace('m 적양배추', ', 적양배추') \\\n",
    "                .replace('l고추장', ' 고추장') \\\n",
    "    if isinstance(x, str) else x\n",
    ")"
   ]
  },
  {
   "cell_type": "code",
   "execution_count": 59,
   "metadata": {},
   "outputs": [],
   "source": [
    "with open(\"datasets/normalized_pattern.pkl\", \"rb\") as f:\n",
    "    patterns = pickle.load(f)"
   ]
  },
  {
   "cell_type": "code",
   "execution_count": 60,
   "metadata": {},
   "outputs": [],
   "source": [
    "def split_with_protection(text):\n",
    "    # 괄호 안의 쉼표 보호\n",
    "    text = re.sub(r'\\([^)]*\\)', lambda m: m.group(0).replace(',', ' '), text)\n",
    "    # 쉼표로 분리\n",
    "    items = text.split(',')\n",
    "    return items\n",
    "\n",
    "def extract_food_names_from_list(text_list, pattern):\n",
    "    food_names_list = []\n",
    "    for origin in text_list:\n",
    "        text = origin\n",
    "        if bool(re.search(pattern[0], text)):\n",
    "            text = re.sub(pattern[0], pattern[1], text)\n",
    "        \n",
    "        items = split_with_protection(text)\n",
    "        items = [item for item in items if item.strip()]\n",
    "        \n",
    "        food_names = []\n",
    "        for item in items:\n",
    "            item = item.strip()\n",
    "            if item:\n",
    "                food_names.append(item)\n",
    "        \n",
    "        food_str = \", \".join(food_names)\n",
    "        food_names_list.append(food_str)\n",
    "    \n",
    "    return food_names_list\n",
    "\n",
    "def contains_food_info(text, pattern):\n",
    "    return bool(re.search(pattern, text))"
   ]
  },
  {
   "cell_type": "code",
   "execution_count": 61,
   "metadata": {},
   "outputs": [],
   "source": [
    "ingredient_detail_series = df['INGREDIENT_DETAIL']\n",
    "\n",
    "for i, pattern in enumerate(patterns):\n",
    "    food_names = extract_food_names_from_list(ingredient_detail_series, pattern)\n",
    "    ingredient_detail_series = pd.Series(food_names) # Series로 저장\n",
    "\n",
    "df['INGREDIENT_DETAIL'] = ingredient_detail_series # 정규화된 재료 정보를 다시 DataFrame에 저장"
   ]
  },
  {
   "cell_type": "markdown",
   "metadata": {},
   "source": [
    "### 2.2) `INGREDIENT_DETAIL`에서 `NAME`과 `AMOUNT`로 분리"
   ]
  },
  {
   "cell_type": "code",
   "execution_count": 62,
   "metadata": {},
   "outputs": [
    {
     "name": "stdout",
     "output_type": "stream",
     "text": [
      "                                      INGREDIENT_DETAIL  \\\n",
      "0     새송이버섯 100g(3개), 올리브유 10g(2작은술), 두유 20g(1⅓큰술), ...   \n",
      "1     백일송이버섯 65g(1컵), 노랑 파프리카 5g(5×1cm), 빨강 파프리카 5g(...   \n",
      "2     가지(15g), 새송이버섯(15g), 표고버섯(10g), 땅콩가루(5g), 다진마늘...   \n",
      "3     연두부 75g(3/4모), 칵테일새우 20g(5마리), 달걀 30g(1/2개), 생...   \n",
      "4     조선부추 50g, 날콩가루 7g(1⅓작은술), 저염간장 3g(2/3작은술), 다진 ...   \n",
      "...                                                 ...   \n",
      "1128  소고기(치맛살)(100g), 김(6g(3장)), 튀김가루(20g), 식용유(45g)...   \n",
      "1129  감태 (2g(2장)), 라이스페이퍼(60g), 양상추(80g), 적채(20g), 건...   \n",
      "1130  부추(30g), 양파(10g), 배(15g), 다진 마늘(8g), 고춧가루(8g),...   \n",
      "1131  열무(30g), 톳(10g), 마늘(3g), 생강(1g), 어간장(5g), 고춧가루...   \n",
      "1132  알배추(23g), 쪽파(5g), 통깨(2g), 겉절이 양념(15g), 찐 감자(20...   \n",
      "\n",
      "                                        INGREDIENT_NAME  \\\n",
      "0                [새송이버섯, 올리브유, 두유, 생크림, 청양고추, 후추, 새싹채소]   \n",
      "1                      [백일송이버섯, 노랑 파프리카, 빨강 파프리카, 카놀라유]   \n",
      "2              [가지, 새송이버섯, 표고버섯, 땅콩가루, 다진마늘, 참기름, 저염간장]   \n",
      "3                  [연두부, 칵테일새우, 달걀, 생크림, 설탕, 무염버터, 시금치]   \n",
      "4     [조선부추, 날콩가루, 저염간장, 다진 대파, 다진 마늘, 고춧가루, 요리당, 참기...   \n",
      "...                                                 ...   \n",
      "1128  [소고기(치맛살), 김, 튀김가루, 식용유, 다진 쪽파, 다진 마늘, 저염간장, 고...   \n",
      "1129  [감태, 라이스페이퍼, 양상추, 적채, 건표고버섯, 느타리버섯, 만가닥버섯, 청고추...   \n",
      "1130      [부추, 양파, 배, 다진 마늘, 고춧가루, 멸치액젓, 저염간장, 레몬즙, 통깨]   \n",
      "1131                     [열무, 톳, 마늘, 생강, 어간장, 고춧가루, 통깨]   \n",
      "1132  [알배추, 쪽파, 통깨, 겉절이 양념, 찐 감자, 고춧가루, 매실청, 까나리액젓, ...   \n",
      "\n",
      "                                      INGREDIENT_AMOUNT  \n",
      "0     [100g(3개), 10g(2작은술), 20g(1⅓큰술), 10g(2작은술), 5g...  \n",
      "1           [65g(1컵), 5g(5×1cm), 5g(5×1cm), 3g(2/3작은술)]  \n",
      "2         [(15g), (15g), (10g), (5g), (2g), (2g), (1g)]  \n",
      "3     [75g(3/4모), 20g(5마리), 30g(1/2개), 13g(1큰술), 5g(...  \n",
      "4     [50g, 7g(1⅓작은술), 3g(2/3작은술), 5g(1작은술), 2g(1/2쪽...  \n",
      "...                                                 ...  \n",
      "1128  [(100g), (6g(3장)), (20g), (45g), (10g), (12g),...  \n",
      "1129  [(2g(2장)), (60g), (80g), (20g), (5g), (10g), (...  \n",
      "1130  [(30g), (10g), (15g), (8g), (8g), (6g), (3g), ...  \n",
      "1131       [(30g), (10g), (3g), (1g), (5g), (2g), (2g)]  \n",
      "1132  [(23g), (5g), (2g), (15g), (20g), (25g), (5g),...  \n",
      "\n",
      "[1133 rows x 3 columns]\n"
     ]
    }
   ],
   "source": [
    "def split_ingredients(ingredients):\n",
    "    items = ingredients.split(\",\")\n",
    "    ingredient_names = []\n",
    "    ingredient_amounts = []\n",
    "    \n",
    "    for item in items:\n",
    "        item = item.strip()\n",
    "        # 숫자, '약간', '(약간)', '(숫자)' 패턴을 고려한 정규식\n",
    "        match = re.match(r\"(.+?)(\\s*[\\d⅓½¼¾⅔⅕⅖⅗⅘⅙⅚⅛⅜⅝⅞]+.*|\\s*약간.*|\\s*\\(약간\\).*|\\s*\\([\\d⅓½¼¾⅔⅕⅖⅗⅘⅙⅚⅛⅜⅝⅞]+.*?\\).*)$\", item)\n",
    "        if match:\n",
    "            ingredient, amount = match.group(1), match.group(2)\n",
    "            ingredient_names.append(ingredient.strip())\n",
    "            ingredient_amounts.append(amount.strip())\n",
    "        else:\n",
    "            ingredient_names.append(item.strip())\n",
    "            ingredient_amounts.append(\"\")\n",
    "    \n",
    "    return pd.Series([ingredient_names, ingredient_amounts])\n",
    "\n",
    "# 재료 이름과 양 분리\n",
    "df[['INGREDIENT_NAME', 'INGREDIENT_AMOUNT']] = ingredient_detail_series.apply(split_ingredients)\n",
    "\n",
    "# 결과 출력 (확인용)\n",
    "print(df[['INGREDIENT_DETAIL', 'INGREDIENT_NAME', 'INGREDIENT_AMOUNT']])"
   ]
  },
  {
   "cell_type": "markdown",
   "metadata": {},
   "source": [
    "### 2.3) `recipe_cleaned.csv` 파일 저장"
   ]
  },
  {
   "cell_type": "code",
   "execution_count": 63,
   "metadata": {},
   "outputs": [],
   "source": [
    "df.index = range(1, len(df) + 1)\n",
    "df.index.name = 'ID'"
   ]
  },
  {
   "cell_type": "code",
   "execution_count": 64,
   "metadata": {},
   "outputs": [],
   "source": [
    "df.to_csv(\"datasets/recipe_cleand.csv\", index=True, encoding=\"utf-8\")"
   ]
  }
 ],
 "metadata": {
  "kernelspec": {
   "display_name": "py310",
   "language": "python",
   "name": "python3"
  },
  "language_info": {
   "codemirror_mode": {
    "name": "ipython",
    "version": 3
   },
   "file_extension": ".py",
   "mimetype": "text/x-python",
   "name": "python",
   "nbconvert_exporter": "python",
   "pygments_lexer": "ipython3",
   "version": "3.10.16"
  }
 },
 "nbformat": 4,
 "nbformat_minor": 2
}
